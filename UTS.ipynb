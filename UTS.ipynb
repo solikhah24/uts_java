{
 "cells": [
  {
   "cell_type": "markdown",
   "metadata": {},
   "source": []
  },
  {
   "cell_type": "markdown",
   "metadata": {},
   "source": [
    "### Project UTS SI-S1\n",
    "\n",
    "1. Rancang sebuah *Class* bangun ruang **Bola** dengan kemampuan menghitung Volume dari bangun ruang tersebut.\n",
    "2. Buatlah sebuah aplikasi untuk implementasi class dari *point no 1* dalam jupyter notebook ini\n",
    "3. Lakukan rancang kompunen-kompunen yang dibutuhkan\n",
    "4. Lakukan *Enskapsulasi* dari class pada *point no 1* \n",
    "5. Berikan penjelasan dari kode yang anda buat (dalam notebook tersebut).\n",
    "6. Lakukan Eksekusi / *Run* sebelum upload ke github.\n",
    "\n",
    "• **Upload File Notebook ini** (*.ipynb) ke folder github anda paling lambat pada saat jadwal UTS."
   ]
  },
  {
   "cell_type": "code",
   "execution_count": null,
   "metadata": {},
   "outputs": [],
   "source": [
    "//Jawab\n",
    "1.\t<p>Masukkan nilai jari-jari bola.</p>\n",
    "<form action=\"volume-bola.php\" method=\"post\">\n",
    "\tJari : <input type=\"text\" name=\"jari2\"><br><br>\n",
    "\t<input type=\"submit\" name=\"submit\" value=\"Hitung\">\n",
    "</form>\n",
    " \n",
    "<?php\n",
    "\tif(isset($_POST['submit'])){\n",
    "\t\t$jari = $_POST['jari2'];\n",
    "\t\t$phi = 22/7;\n",
    "\t\t\n",
    "\t\t$volume = 4/3 * $phi * $jari * $jari * $jari; // Menghitung volume\n",
    "\t\t\n",
    "\t\techo \"Bola yang memiliki jari - jari : $jari<br>\";\n",
    "\t\techo \"Maka memiliki volume: $volume\";\n",
    "\t}\n",
    "?>\n",
    "\n"
   ]
  },
  {
   "cell_type": "code",
   "execution_count": null,
   "metadata": {},
   "outputs": [],
   "source": [
    "2.\tvoid Bola()\n",
    "{\n",
    "\tfloat r,Vb,LPb;\n",
    "\tfloat phi;\n",
    "\tphi=3.14;\n",
    "\tcout<<\"-----------------------------\"<<endl;\n",
    "\tcout<<\"Menghitung Volume dan Luas Permukaan Bola\"<<endl;\n",
    "\tcout<<\"-----------------------------\"<<endl<<endl;\n",
    "\tcout<<\"Masukkan Nilai jari-jari Bola  :\";\n",
    "\tcin>>r;\n",
    "\n",
    "\t//Menghitung Volume Bola\n",
    "\tVb= 1.333*phi*r*r*r;\n",
    "\t//Menghitung Luas Permukaan Bola\n",
    "\tLPb=4*phi*r*r;\n",
    "\tcout<<\"Volume Tabung adalah            : \"<<Vb<<endl;\n",
    "\tcout<<\"Luas Permukaan Tabung adalah    : \"<<LPb<<endl;\n",
    "}\n"
   ]
  },
  {
   "cell_type": "code",
   "execution_count": null,
   "metadata": {},
   "outputs": [],
   "source": [
    "4.\tPembahasan kali ini adalah mengenai penerapan PBO pada program sederhana penghitung volume bangun ruang. \n",
    "    Kebetulan saya menggunakan prinsip enkapsulasi lalu pilih bangun ruang yang akan di hitung:\n",
    " \n",
    "Lalu inputkan nilai yang diminta:\n",
    " \n",
    "Maka hasilnya seperti ini:\n",
    " \n",
    "\n",
    "Nah yang pertama ini dinamankan kelas entity, dalam kelas ini lah saya memanfaatkan prinsip enkapsulasi. \n",
    "    Untuk membuatnya tidak perlu susah-susah, \n",
    "tinggal kita tentukan parameter apa aja yang mau di pake,\n",
    "nah setelah itu tinggal dirubah ke dalam method getter-setter, caranya, masuk di menu source –>> pilih Insert code –> lalu pilih getter – setter, tinggal memilih parameter yang mana yang mau dirubah\n",
    "Ini bentuk script getter – setter nya:\n",
    " \n",
    "Nah sekarang kelas penghitung volumenya, ingat kelas ini tidak menggunakan main methode, hanya menggunakan class biasa, \n",
    "tujuannya adalah agar class ini bisa dipanggil oleh class main tadi. \n",
    "Saya tidak menampilkan semua scriptnya, tapi hanya salah satu saja, dan contoh yang saya gunakan adalah penghitung bola:\n",
    " \n",
    "Sekarang class runningnya, dalam class running ini saya menggunakan JFrame, dengan memanfaatkan aplikasi Switch – case.\n",
    " \n",
    "\n",
    "\n"
   ]
  }
 ],
 "metadata": {
  "kernelspec": {
   "display_name": "Java",
   "language": "java",
   "name": "java"
  },
  "language_info": {
   "codemirror_mode": "text/x-java",
   "file_extension": ".java",
   "mimeid": "419",
   "mimetype": "",
   "name": "Java",
   "nbconverter_exporter": "",
   "version": "1.8.0_221"
  }
 },
 "nbformat": 4,
 "nbformat_minor": 4
}
